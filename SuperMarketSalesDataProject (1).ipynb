{
 "cells": [
  {
   "cell_type": "code",
   "execution_count": 1,
   "id": "b5751f9a-d573-41a6-b093-7d9105a57e59",
   "metadata": {},
   "outputs": [
    {
     "name": "stdout",
     "output_type": "stream",
     "text": [
      "Supermarket Sales Data Collection\n"
     ]
    },
    {
     "name": "stdin",
     "output_type": "stream",
     "text": [
      "Enter product name:  sugar\n",
      "Enter quantity:  3\n",
      "Enter price per unit (Rs):  45\n",
      "Is there a discount? (yes/no):  yes\n",
      "Enter discount percentage:  3\n"
     ]
    },
    {
     "name": "stdout",
     "output_type": "stream",
     "text": [
      "Product: sugar, Quantity: 3, Price per Unit: Rs 45.0, Total: Rs 130.95, Discount: 3.0%, Final Total: Rs 130.95\n",
      "Sales data saved to file.\n"
     ]
    }
   ],
   "source": [
    "class Sale:\n",
    "    def __init__(self, product_name, quantity, price_per_unit):\n",
    "        self.product_name = product_name\n",
    "        self.quantity = quantity\n",
    "        self.price_per_unit = price_per_unit\n",
    "    \n",
    "    # Method to calculate total sale amount for the product\n",
    "    def calculate_total(self):\n",
    "        return self.quantity * self.price_per_unit\n",
    "    \n",
    "    # Method to display sale details\n",
    "    def display_sale(self):\n",
    "        return f\"Product: {self.product_name}, Quantity: {self.quantity}, Price per Unit: Rs {self.price_per_unit}, Total: Rs {self.calculate_total()}\"\n",
    "\n",
    "# Child Class: DiscountedSale (inherits from Sale)\n",
    "class DiscountedSale(Sale):\n",
    "    def __init__(self, product_name, quantity, price_per_unit, discount_percentage):\n",
    "        # Using super() to inherit from Sale class\n",
    "        super().__init__(product_name, quantity, price_per_unit)\n",
    "        self.discount_percentage = discount_percentage\n",
    "    \n",
    "    # Override the calculate_total method to apply discount\n",
    "    def calculate_total(self):\n",
    "        total = super().calculate_total()  # Get the total from the parent class method\n",
    "        discount = total * (self.discount_percentage / 100)\n",
    "        return total - discount\n",
    "    \n",
    "    # Display sale details including discount\n",
    "    def display_sale(self):\n",
    "        base_sale = super().display_sale()\n",
    "        return f\"{base_sale}, Discount: {self.discount_percentage}%, Final Total: Rs {self.calculate_total()}\"\n",
    "\n",
    "# File handling: Save sale data to a file\n",
    "def save_sale_to_file(sale_info, filename=\"sales_data.txt\"):\n",
    "    try:\n",
    "        with open(filename, 'a') as file:\n",
    "            file.write(sale_info + '\\n')\n",
    "    except Exception as e:\n",
    "        print(f\"An error occurred while writing to the file: {e}\")\n",
    "\n",
    "# Main function to simulate sales data input and file handling\n",
    "def main():\n",
    "    print(\"Supermarket Sales Data Collection\")\n",
    "\n",
    "    # Taking user input\n",
    "    try:\n",
    "        product_name = input(\"Enter product name: \")\n",
    "        \n",
    "        quantity = int(input(\"Enter quantity: \"))\n",
    "        if quantity <= 0:\n",
    "            raise ValueError(\"Quantity must be a positive number.\")\n",
    "\n",
    "        price_per_unit = float(input(\"Enter price per unit (Rs): \"))\n",
    "        if price_per_unit <= 0:\n",
    "            raise ValueError(\"Price per unit must be a positive number.\")\n",
    "\n",
    "        has_discount = input(\"Is there a discount? (yes/no): \").strip().lower()\n",
    "\n",
    "        if has_discount == \"yes\":\n",
    "            discount_percentage = float(input(\"Enter discount percentage: \"))\n",
    "            if discount_percentage < 0:\n",
    "                raise ValueError(\"Discount percentage must be zero or a positive number.\")\n",
    "            # Creating an instance of DiscountedSale class\n",
    "            sale = DiscountedSale(product_name, quantity, price_per_unit, discount_percentage)\n",
    "        else:\n",
    "            # Creating an instance of Sale class\n",
    "            sale = Sale(product_name, quantity, price_per_unit)\n",
    "    \n",
    "    except ValueError as e:\n",
    "        print(f\"Invalid input: {e}\")\n",
    "        return\n",
    "\n",
    "    # Display the sale data\n",
    "    sale_info = sale.display_sale()\n",
    "    print(sale_info)\n",
    "\n",
    "    # Save sale data to a file\n",
    "    save_sale_to_file(sale_info)\n",
    "\n",
    "    print(\"Sales data saved to file.\")\n",
    "\n",
    "# Running the main function\n",
    "if __name__ == \"__main__\":\n",
    "    main()\n"
   ]
  },
  {
   "cell_type": "markdown",
   "id": "5f7b46c4-6fad-4f47-b2f9-df8eaa91a41e",
   "metadata": {},
   "source": []
  }
 ],
 "metadata": {
  "kernelspec": {
   "display_name": "Python 3 (ipykernel)",
   "language": "python",
   "name": "python3"
  },
  "language_info": {
   "codemirror_mode": {
    "name": "ipython",
    "version": 3
   },
   "file_extension": ".py",
   "mimetype": "text/x-python",
   "name": "python",
   "nbconvert_exporter": "python",
   "pygments_lexer": "ipython3",
   "version": "3.12.4"
  }
 },
 "nbformat": 4,
 "nbformat_minor": 5
}
